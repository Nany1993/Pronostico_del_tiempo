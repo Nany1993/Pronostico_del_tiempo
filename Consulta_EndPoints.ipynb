{
 "cells": [
  {
   "cell_type": "markdown",
   "metadata": {},
   "source": [
    "## End Point disponibilizado en FastAPI"
   ]
  },
  {
   "cell_type": "code",
   "execution_count": 2,
   "metadata": {},
   "outputs": [],
   "source": [
    "import requests\n",
    "import pandas as pd\n",
    "from twilio_config import TWILIO_ACCOUNT_SID, TWILIO_AUTH_TOKEN, PHONE_NUMBER, API_KEY_WAPI"
   ]
  },
  {
   "cell_type": "code",
   "execution_count": 3,
   "metadata": {},
   "outputs": [],
   "source": [
    "api_key = API_KEY_WAPI\n",
    "ciudad = \"Bogota\" ## Puedes colocar la ciudad de tu preferencia\n",
    "hora = 7 ##Puedes ingresar otra hora en formato 24 horas numero entero"
   ]
  },
  {
   "cell_type": "code",
   "execution_count": 11,
   "metadata": {},
   "outputs": [
    {
     "name": "stdout",
     "output_type": "stream",
     "text": [
      "Los datos del clima de hoy para la ciudad de Bogota  a las  7  Son: \n",
      " \n",
      "        Fecha  Hora Condicion  Temperatura      Lluvia  \\\n",
      "0  2023-08-31     7     Sunny         10.0  No lloverá   \n",
      "\n",
      "                        prob_lluvia  \n",
      "0  0% de probabilidad de que llueva  \n"
     ]
    }
   ],
   "source": [
    "#pendiente deploy para colocar las url de render\n",
    "def ConsultaDatosClimaHoy(ciudad, hora):\n",
    "    url = f'https://pronostico-del-tiempo.onrender.com/clima/{ciudad}/{hora}'\n",
    "    r = requests.get(url).json()\n",
    "    return r\n",
    "\n",
    "datos_clima = pd.DataFrame(ConsultaDatosClimaHoy(ciudad, hora))\n",
    "\n",
    "print(\"Los datos del clima de hoy para la ciudad de\", ciudad, \" a las \", hora , \" Son: \")\n",
    "print(\" \")\n",
    "print(datos_clima)"
   ]
  }
 ],
 "metadata": {
  "kernelspec": {
   "display_name": "Python 3",
   "language": "python",
   "name": "python3"
  },
  "language_info": {
   "codemirror_mode": {
    "name": "ipython",
    "version": 3
   },
   "file_extension": ".py",
   "mimetype": "text/x-python",
   "name": "python",
   "nbconvert_exporter": "python",
   "pygments_lexer": "ipython3",
   "version": "3.9.13"
  },
  "orig_nbformat": 4
 },
 "nbformat": 4,
 "nbformat_minor": 2
}
