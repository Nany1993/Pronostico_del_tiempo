{
 "cells": [
  {
   "cell_type": "markdown",
   "metadata": {},
   "source": [
    "## End Point disponibilizado en FastAPI"
   ]
  },
  {
   "cell_type": "code",
   "execution_count": 9,
   "metadata": {},
   "outputs": [],
   "source": [
    "import requests\n",
    "import pandas as pd\n",
    "from twilio_config import TWILIO_ACCOUNT_SID, TWILIO_AUTH_TOKEN, PHONE_NUMBER, API_KEY_WAPI"
   ]
  },
  {
   "cell_type": "code",
   "execution_count": 6,
   "metadata": {},
   "outputs": [],
   "source": [
    "api_key = API_KEY_WAPI\n",
    "ciudad = \"Bogota\" ## Puedes colocar la ciudad de tu preferencia\n",
    "hora = 7 ##Puedes ingresar otra hora en formato 24 horas numero entero"
   ]
  },
  {
   "cell_type": "code",
   "execution_count": null,
   "metadata": {},
   "outputs": [],
   "source": [
    "#pendiente deploy para colocar las url de render\n",
    "def ConsultaDatosClimaHoy(ciudad, hora):\n",
    "    url = f'http://api.weatherapi.com/v1/forecast.json?key={api_key}&q={ciudad}&days=1&aqi=no&alerts=no'\n",
    "    r = requests.get(url).json()\n",
    "    return r\n",
    "\n",
    "datos_clima = pd.DataFrame(ConsultaDatosClimaHoy(ciudad, hora))\n",
    "\n",
    "print(\"Los datos del clima de hoy para la ciudad de\", ciudad, \" a las \", hora , \" Son: \", datos_clima )"
   ]
  }
 ],
 "metadata": {
  "kernelspec": {
   "display_name": "Python 3",
   "language": "python",
   "name": "python3"
  },
  "language_info": {
   "codemirror_mode": {
    "name": "ipython",
    "version": 3
   },
   "file_extension": ".py",
   "mimetype": "text/x-python",
   "name": "python",
   "nbconvert_exporter": "python",
   "pygments_lexer": "ipython3",
   "version": "3.9.13"
  },
  "orig_nbformat": 4
 },
 "nbformat": 4,
 "nbformat_minor": 2
}
